{
 "cells": [
  {
   "cell_type": "markdown",
   "id": "979f15d5",
   "metadata": {},
   "source": [
    "# Prédicteur de Charges d'Assurance Maladie (partie 3) : "
   ]
  },
  {
   "cell_type": "markdown",
   "id": "4b5b6580",
   "metadata": {},
   "source": [
    "## ➕ Feature Story 5 : Test et Téléchargement du Modèle"
   ]
  },
  {
   "cell_type": "markdown",
   "id": "2365062b",
   "metadata": {},
   "source": [
    "### Développer des champs de saisie simples permettant à l’utilisateur d’entrer ses données, puis utiliser le modèle chargé pour estimer les charges."
   ]
  },
  {
   "cell_type": "code",
   "execution_count": 3,
   "id": "8c6da8c3",
   "metadata": {},
   "outputs": [],
   "source": [
    "\n",
    "import joblib\n",
    "import pandas as pd\n",
    "\n",
    "modele_charge = joblib.load('modele_final_charges_medicales.pkl')"
   ]
  },
  {
   "cell_type": "code",
   "execution_count": 4,
   "id": "7fc11daa",
   "metadata": {},
   "outputs": [],
   "source": [
    "\n",
    "\n",
    "def predire_charges_medicales():\n",
    "    \"\"\"\n",
    "    Interface simple pour prédire les charges médicales\n",
    "    \"\"\"\n",
    "    print(\"\\n\" + \"=\"*50)\n",
    "    print(\"🏥 PRÉDICTION DE CHARGES MÉDICALES\")\n",
    "    print(\"=\"*50)\n",
    "    \n",
    "    # Saisie utilisateur\n",
    "    print(\"\\nVeuillez entrer vos informations:\")\n",
    "    age = int(input(\"Âge: \"))\n",
    "    sexe = input(\"Sexe (male/female): \").lower()\n",
    "    bmi = float(input(\"BMI: \"))\n",
    "    enfants = int(input(\"Nombre d'enfants: \"))\n",
    "    fumeur = input(\"Fumeur (yes/no): \").lower()\n",
    "    region = input(\"Région (northeast/northwest/southeast/southwest): \").lower()\n",
    "    \n",
    "    nouvelles_donnees = pd.DataFrame({\n",
    "        'age': [age],\n",
    "        'sex': [sexe],\n",
    "        'bmi': [bmi],\n",
    "        'children': [enfants],\n",
    "        'smoker': [fumeur],\n",
    "        'region': [region]\n",
    "    })\n",
    "    \n",
    "    prediction = modele_charge.predict(nouvelles_donnees)\n",
    "    \n",
    "    print(f\"\\n💵 CHARGE MÉDICALE PRÉDITE: ${prediction[0]:.2f}\")\n",
    "    return prediction[0]\n",
    "\n",
    "\n"
   ]
  },
  {
   "cell_type": "code",
   "execution_count": 5,
   "id": "08d79cd8",
   "metadata": {},
   "outputs": [
    {
     "name": "stdout",
     "output_type": "stream",
     "text": [
      "\n",
      "==================================================\n",
      "🏥 PRÉDICTION DE CHARGES MÉDICALES\n",
      "==================================================\n",
      "\n",
      "Veuillez entrer vos informations:\n",
      "\n",
      "💵 CHARGE MÉDICALE PRÉDITE: $2718.35\n"
     ]
    },
    {
     "data": {
      "text/plain": [
       "np.float32(2718.3462)"
      ]
     },
     "execution_count": 5,
     "metadata": {},
     "output_type": "execute_result"
    }
   ],
   "source": [
    "predire_charges_medicales()\n"
   ]
  }
 ],
 "metadata": {
  "kernelspec": {
   "display_name": "Python 3",
   "language": "python",
   "name": "python3"
  },
  "language_info": {
   "codemirror_mode": {
    "name": "ipython",
    "version": 3
   },
   "file_extension": ".py",
   "mimetype": "text/x-python",
   "name": "python",
   "nbconvert_exporter": "python",
   "pygments_lexer": "ipython3",
   "version": "3.13.7"
  }
 },
 "nbformat": 4,
 "nbformat_minor": 5
}
